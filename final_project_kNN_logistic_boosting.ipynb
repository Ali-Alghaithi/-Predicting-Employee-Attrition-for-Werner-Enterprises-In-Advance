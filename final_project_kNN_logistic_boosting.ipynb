{
 "cells": [
  {
   "cell_type": "code",
   "execution_count": 1,
   "metadata": {
    "state": "normal"
   },
   "outputs": [
    {
     "name": "stderr",
     "output_type": "stream",
     "text": [
      "/opt/conda/lib/python3.7/site-packages/statsmodels/tools/_testing.py:19: FutureWarning: pandas.util.testing is deprecated. Use the functions in the public API at pandas.testing instead.\n",
      "  import pandas.util.testing as tm\n"
     ]
    }
   ],
   "source": [
    "# import libraries\n",
    "import numpy as np\n",
    "import pandas as pd\n",
    "import patsy as pt\n",
    "from sklearn.model_selection import train_test_split\n",
    "from sklearn.metrics import accuracy_score\n",
    "from sklearn.metrics import confusion_matrix\n",
    "## for SVM\n",
    "from sklearn.svm import SVC\n",
    "from sklearn.svm import LinearSVC\n",
    "## for kNN\n",
    "from sklearn.neighbors import KNeighborsClassifier\n",
    "## for logistic\n",
    "import statsmodels.api as sm\n",
    "## for boosting\n",
    "from sklearn.ensemble import GradientBoostingClassifier"
   ]
  },
  {
   "cell_type": "code",
   "execution_count": 2,
   "metadata": {
    "state": "normal"
   },
   "outputs": [],
   "source": [
    "# read in data\n",
    "data = pd.read_csv('the_train.csv').drop('EQUIPMENT_COST_DIVISION_CD', axis = 1)\n",
    "#data = pd.concat([data, pd.get_dummies(data.EQUIPMENT_COST_DIVISION_CD, prefix='Equip', drop_first=True)], axis=1).drop('EQUIPMENT_COST_DIVISION_CD', axis = 1)\n",
    "data = pd.concat([data, pd.get_dummies(data.GENDER_CD, prefix='Gender', drop_first=True)], axis=1).drop('GENDER_CD', axis = 1)\n",
    "\n",
    "test = pd.read_csv('the_test.csv').drop('EQUIPMENT_COST_DIVISION_CD', axis = 1)\n",
    "#test = pd.concat([test, pd.get_dummies(test.EQUIPMENT_COST_DIVISION_CD, prefix='Equip', drop_first=True)], axis=1).drop('EQUIPMENT_COST_DIVISION_CD', axis = 1)\n",
    "test = pd.concat([test, pd.get_dummies(test.GENDER_CD, prefix='Gender', drop_first=True)], axis=1).drop('GENDER_CD', axis = 1)"
   ]
  },
  {
   "cell_type": "code",
   "execution_count": null,
   "metadata": {},
   "outputs": [],
   "source": [
    "# calculate metrics for unbalanced data\n",
    "## includes true positive rate, true negative rate, precision, f-measure, g-mean, and weighted accuracy\n",
    "\n",
    "def measurements(real,pred,Name):\n",
    "                 \n",
    "    Confusion_Matrix = confusion_matrix(real,pred,labels = [0,1])\n",
    "    TN= Confusion_Matrix[0][0]\n",
    "    FN= Confusion_Matrix[1][0]\n",
    "    FP= Confusion_Matrix[0][1]\n",
    "    TP= Confusion_Matrix[1][1]\n",
    "    \n",
    "    # True Negative Rate \n",
    "    Acc_Negative= TN/(TN+FP)\n",
    "    \n",
    "    # True Positive Rate\n",
    "    Acc_Positive = TP/(TP+FN)\n",
    "    Recall = Acc_Positive\n",
    "    \n",
    "    # G-mean \n",
    "    G_mean = np.power(Acc_Negative * Acc_Positive, 0.5)\n",
    "    \n",
    "    # Precision\n",
    "    Precision = TP/(TP+FP)\n",
    "    \n",
    "    # Weighted Accuracy\n",
    "    Beta= 0.5 # Here we use equal weights for both true positive rate and true negative rate; i.e., β equals 0.5\n",
    "    Weighted_Accuracy=  (Beta * Acc_Positive) + ((1-Beta)*Acc_Negative)\n",
    "    \n",
    "    # F-measure\n",
    "    F_measure = (2 * Precision * Recall) /(Precision + Recall)\n",
    "    \n",
    "    performance_measures = [{\"Method\":Name,\"Acc_Positive(Recall)\":Acc_Positive, \"Acc_Negative\":Acc_Negative, \"Precision\":Precision,\"F_measure\":F_measure,\"G_mean\":G_mean,\"Weighted_Accuracy\":Weighted_Accuracy}]\n",
    "    df = pd.DataFrame(performance_measures)\n",
    "    \n",
    "    return(df)"
   ]
  },
  {
   "cell_type": "code",
   "execution_count": 3,
   "metadata": {
    "state": "normal"
   },
   "outputs": [],
   "source": [
    "# independent and dependent variables \n",
    "\n",
    "## training set\n",
    "y = data['quitIn30Days']\n",
    "x = data.drop('quitIn30Days', axis = 1)\n",
    "\n",
    "## validation set\n",
    "yt = test['quitIn30Days']\n",
    "xt = test.drop('quitIn30Days', axis = 1)"
   ]
  },
  {
   "cell_type": "code",
   "execution_count": 4,
   "metadata": {
    "state": "normal"
   },
   "outputs": [
    {
     "data": {
      "text/plain": [
       "array([[41132,   208],\n",
       "       [  803,  6396]])"
      ]
     },
     "execution_count": 4,
     "metadata": {},
     "output_type": "execute_result"
    }
   ],
   "source": [
    "# kNN\n",
    "\n",
    "## model\n",
    "model = KNeighborsClassifier(n_neighbors=10, n_jobs = -1, metric='euclidean')\n",
    "\n",
    "## fitted model\n",
    "modelFit = model.fit(x,y)\n",
    "\n",
    "## prediction\n",
    "pred = modelFit.predict(x)\n",
    "\n",
    "# Calculate accuracy score\n",
    "accuracy_score(pred, y)\n",
    "\n",
    "confusion_matrix(y,pred,labels = [0,1])"
   ]
  },
  {
   "cell_type": "code",
   "execution_count": 8,
   "metadata": {
    "state": "normal"
   },
   "outputs": [
    {
     "data": {
      "text/html": [
       "<div>\n",
       "<style scoped>\n",
       "    .dataframe tbody tr th:only-of-type {\n",
       "        vertical-align: middle;\n",
       "    }\n",
       "\n",
       "    .dataframe tbody tr th {\n",
       "        vertical-align: top;\n",
       "    }\n",
       "\n",
       "    .dataframe thead th {\n",
       "        text-align: right;\n",
       "    }\n",
       "</style>\n",
       "<table border=\"1\" class=\"dataframe\">\n",
       "  <thead>\n",
       "    <tr style=\"text-align: right;\">\n",
       "      <th></th>\n",
       "      <th>Method</th>\n",
       "      <th>Acc_Positive(Recall)</th>\n",
       "      <th>Acc_Negative</th>\n",
       "      <th>Precision</th>\n",
       "      <th>F_measure</th>\n",
       "      <th>G_mean</th>\n",
       "      <th>Weighted_Accuracy</th>\n",
       "    </tr>\n",
       "  </thead>\n",
       "  <tbody>\n",
       "    <tr>\n",
       "      <th>0</th>\n",
       "      <td>kNN</td>\n",
       "      <td>0.888457</td>\n",
       "      <td>0.994969</td>\n",
       "      <td>0.968504</td>\n",
       "      <td>0.926755</td>\n",
       "      <td>0.940206</td>\n",
       "      <td>0.941713</td>\n",
       "    </tr>\n",
       "  </tbody>\n",
       "</table>\n",
       "</div>"
      ],
      "text/plain": [
       "  Method  Acc_Positive(Recall)  Acc_Negative  Precision  F_measure    G_mean  \\\n",
       "0    kNN              0.888457      0.994969   0.968504   0.926755  0.940206   \n",
       "\n",
       "   Weighted_Accuracy  \n",
       "0           0.941713  "
      ]
     },
     "execution_count": 8,
     "metadata": {},
     "output_type": "execute_result"
    }
   ],
   "source": [
    "measurements(y,pred,'kNN')"
   ]
  },
  {
   "cell_type": "code",
   "execution_count": 9,
   "metadata": {
    "state": "normal"
   },
   "outputs": [
    {
     "name": "stdout",
     "output_type": "stream",
     "text": [
      "Warning: Maximum number of iterations has been exceeded.\n",
      "         Current function value: 0.365128\n",
      "         Iterations: 35\n"
     ]
    },
    {
     "name": "stderr",
     "output_type": "stream",
     "text": [
      "/opt/conda/lib/python3.7/site-packages/statsmodels/base/model.py:512: ConvergenceWarning: Maximum Likelihood optimization failed to converge. Check mle_retvals\n",
      "  \"Check mle_retvals\", ConvergenceWarning)\n"
     ]
    },
    {
     "data": {
      "text/plain": [
       "array([[41109,   231],\n",
       "       [ 6557,   642]])"
      ]
     },
     "execution_count": 9,
     "metadata": {},
     "output_type": "execute_result"
    }
   ],
   "source": [
    "# logistic\n",
    "\n",
    "## model\n",
    "model = sm.Logit(y, x)\n",
    "\n",
    "## fitted model\n",
    "modelFit = model.fit()\n",
    "\n",
    "## prediction\n",
    "pred = modelFit.predict(x)\n",
    "pred[pred > 0.5] = 1\n",
    "pred[pred <= 0.5] = 0\n",
    "\n",
    "\n",
    "confusion_matrix(y,pred,labels = [0,1])"
   ]
  },
  {
   "cell_type": "code",
   "execution_count": 10,
   "metadata": {
    "state": "normal"
   },
   "outputs": [
    {
     "data": {
      "text/html": [
       "<div>\n",
       "<style scoped>\n",
       "    .dataframe tbody tr th:only-of-type {\n",
       "        vertical-align: middle;\n",
       "    }\n",
       "\n",
       "    .dataframe tbody tr th {\n",
       "        vertical-align: top;\n",
       "    }\n",
       "\n",
       "    .dataframe thead th {\n",
       "        text-align: right;\n",
       "    }\n",
       "</style>\n",
       "<table border=\"1\" class=\"dataframe\">\n",
       "  <thead>\n",
       "    <tr style=\"text-align: right;\">\n",
       "      <th></th>\n",
       "      <th>Method</th>\n",
       "      <th>Acc_Positive(Recall)</th>\n",
       "      <th>Acc_Negative</th>\n",
       "      <th>Precision</th>\n",
       "      <th>F_measure</th>\n",
       "      <th>G_mean</th>\n",
       "      <th>Weighted_Accuracy</th>\n",
       "    </tr>\n",
       "  </thead>\n",
       "  <tbody>\n",
       "    <tr>\n",
       "      <th>0</th>\n",
       "      <td>logit</td>\n",
       "      <td>0.089179</td>\n",
       "      <td>0.994412</td>\n",
       "      <td>0.735395</td>\n",
       "      <td>0.159068</td>\n",
       "      <td>0.297793</td>\n",
       "      <td>0.541796</td>\n",
       "    </tr>\n",
       "  </tbody>\n",
       "</table>\n",
       "</div>"
      ],
      "text/plain": [
       "  Method  Acc_Positive(Recall)  Acc_Negative  Precision  F_measure    G_mean  \\\n",
       "0  logit              0.089179      0.994412   0.735395   0.159068  0.297793   \n",
       "\n",
       "   Weighted_Accuracy  \n",
       "0           0.541796  "
      ]
     },
     "execution_count": 10,
     "metadata": {},
     "output_type": "execute_result"
    }
   ],
   "source": [
    "measurements(y,pred,'logit')"
   ]
  },
  {
   "cell_type": "code",
   "execution_count": 9,
   "metadata": {},
   "outputs": [
    {
     "name": "stdout",
     "output_type": "stream",
     "text": [
      "[[41180   160]\n",
      " [ 1181  6018]]\n"
     ]
    },
    {
     "data": {
      "text/html": [
       "<div>\n",
       "<style scoped>\n",
       "    .dataframe tbody tr th:only-of-type {\n",
       "        vertical-align: middle;\n",
       "    }\n",
       "\n",
       "    .dataframe tbody tr th {\n",
       "        vertical-align: top;\n",
       "    }\n",
       "\n",
       "    .dataframe thead th {\n",
       "        text-align: right;\n",
       "    }\n",
       "</style>\n",
       "<table border=\"1\" class=\"dataframe\">\n",
       "  <thead>\n",
       "    <tr style=\"text-align: right;\">\n",
       "      <th></th>\n",
       "      <th>Method</th>\n",
       "      <th>Acc_Positive(Recall)</th>\n",
       "      <th>Acc_Negative</th>\n",
       "      <th>Precision</th>\n",
       "      <th>F_measure</th>\n",
       "      <th>G_mean</th>\n",
       "      <th>Weighted_Accuracy</th>\n",
       "    </tr>\n",
       "  </thead>\n",
       "  <tbody>\n",
       "    <tr>\n",
       "      <th>0</th>\n",
       "      <td>boosting</td>\n",
       "      <td>0.835949</td>\n",
       "      <td>0.99613</td>\n",
       "      <td>0.974102</td>\n",
       "      <td>0.899753</td>\n",
       "      <td>0.912532</td>\n",
       "      <td>0.91604</td>\n",
       "    </tr>\n",
       "  </tbody>\n",
       "</table>\n",
       "</div>"
      ],
      "text/plain": [
       "     Method  Acc_Positive(Recall)  Acc_Negative  Precision  F_measure  \\\n",
       "0  boosting              0.835949       0.99613   0.974102   0.899753   \n",
       "\n",
       "     G_mean  Weighted_Accuracy  \n",
       "0  0.912532            0.91604  "
      ]
     },
     "execution_count": 9,
     "metadata": {},
     "output_type": "execute_result"
    }
   ],
   "source": [
    "# Boosting\n",
    "\n",
    "# Generate the boosting model\n",
    "model = GradientBoostingClassifier(n_estimators=100, max_depth=10, min_samples_leaf=10, random_state=42)\n",
    "\n",
    "# Fit the model to the training data\n",
    "modelFit = model.fit(x, y)\n",
    "\n",
    "# Make predictions\n",
    "pred = modelFit.predict(x)\n",
    "\n",
    "# Confusion Matrix\n",
    "print(confusion_matrix(y,pred,labels = [0,1]))\n",
    "\n",
    "# Weighted Accuracy\n",
    "measurements(y,pred,'boosting')"
   ]
  }
 ],
 "metadata": {
  "kernelspec": {
   "display_name": "Python 3",
   "language": "python",
   "name": "python3"
  },
  "language_info": {
   "codemirror_mode": {
    "name": "ipython",
    "version": 3
   },
   "file_extension": ".py",
   "mimetype": "text/x-python",
   "name": "python",
   "nbconvert_exporter": "python",
   "pygments_lexer": "ipython3",
   "version": "3.7.3"
  },
  "varInspector": {
   "cols": {
    "lenName": 16,
    "lenType": 16,
    "lenVar": 40
   },
   "kernels_config": {
    "python": {
     "delete_cmd_postfix": "",
     "delete_cmd_prefix": "del ",
     "library": "var_list.py",
     "varRefreshCmd": "print(var_dic_list())"
    },
    "r": {
     "delete_cmd_postfix": ") ",
     "delete_cmd_prefix": "rm(",
     "library": "var_list.r",
     "varRefreshCmd": "cat(var_dic_list()) "
    }
   },
   "types_to_exclude": [
    "module",
    "function",
    "builtin_function_or_method",
    "instance",
    "_Feature"
   ],
   "window_display": false
  }
 },
 "nbformat": 4,
 "nbformat_minor": 2
}
